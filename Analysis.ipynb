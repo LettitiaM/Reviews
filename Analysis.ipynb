{
 "cells": [
  {
   "cell_type": "code",
   "execution_count": 1,
   "metadata": {},
   "outputs": [],
   "source": [
    "import pandas as pd\n",
    "import numpy as np\n",
    "import matplotlib.pyplot as plt\n",
    "import seaborn as sns"
   ]
  },
  {
   "cell_type": "code",
   "execution_count": null,
   "metadata": {},
   "outputs": [],
   "source": [
    "pd.read_csv('Reviews')"
   ]
  },
  {
   "cell_type": "code",
   "execution_count": null,
   "metadata": {},
   "outputs": [],
   "source": [
    "def missing_values_analysis(df):\n",
    "    na_columns =[col] for col in df.col.isnull(.sum()>0)\n",
    "    n_miss = df[na_columns].isnull().sort_values(ascending=True))\n",
    "    ratio = (df[na_columns_].isnull().sum()/ df.shape[0]*100).sort_values(ascending=True)\n",
    "    missing_df = pd.concat([n_miss, np.round(ratio_,2)],axis =1, keys['Missing Values','Ratio'])\n",
    "    missing_df =pd.DataFrame(missing_df)\n",
    "    return missing_df\n",
    "\n",
    "    def check_dataframe(df, head=5, tail=5):\n",
    "        print('SHAPE'.center(82,'~'))\n",
    "        print('Rows:{}'.format(df.shape[0]))\n",
    "        print('Columns:{}'.format(df.shape[1]))\n",
    "        print('TYPES')\n",
    "        print(df.dtypes)\n",
    "        print(\"\".center(82,'~'))\n",
    "        print(missing_values_analysis(df))\n",
    "        print('DUPLICATED VALUES'.center(83,'~'))\n",
    "        print(df.duplicated().sum())\n",
    "        print('QUANTILES',center(82,'~'))\n",
    "        print(df.quantile([0, 0.05, 0.50, 0.99,1]).T)\n",
    "\n",
    "  check_dataframe()      \n"
   ]
  },
  {
   "cell_type": "code",
   "execution_count": null,
   "metadata": {},
   "outputs": [],
   "source": [
    "def check_class(dataframe):\n",
    "    nunique_df =pd.Dataframe({'Variables': dataframe.columes,\n",
    "                              'Classes':[dataframe[i].nunique() \\\n",
    "                                for i in dataframe.columns]})\n",
    "    nunique_df = nunique_df.sort_values('Classes',ascending = False)\n",
    "    nunique_df = nunique_df.reset_index(drop = True)\n",
    "    return \n",
    "check_class(df)"
   ]
  },
  {
   "cell_type": "code",
   "execution_count": null,
   "metadata": {},
   "outputs": [],
   "source": [
    "constraints = ['#']"
   ]
  }
 ],
 "metadata": {
  "kernelspec": {
   "display_name": "base",
   "language": "python",
   "name": "python3"
  },
  "language_info": {
   "codemirror_mode": {
    "name": "ipython",
    "version": 3
   },
   "file_extension": ".py",
   "mimetype": "text/x-python",
   "name": "python",
   "nbconvert_exporter": "python",
   "pygments_lexer": "ipython3",
   "version": "3.10.9"
  },
  "orig_nbformat": 4
 },
 "nbformat": 4,
 "nbformat_minor": 2
}
